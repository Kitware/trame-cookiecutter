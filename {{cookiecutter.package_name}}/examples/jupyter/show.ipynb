{
 "cells": [
  {
   "cell_type": "code",
   "execution_count": null,
   "id": "d2589707",
   "metadata": {},
   "outputs": [],
   "source": [
    "from {{cookiecutter.import_name}}.app.core import MyTrameApp\n",
    "\n",
    "app = MyTrameApp()\n",
    "app"
   ]
  }
 ],
 "metadata": {
  "kernelspec": {
   "display_name": ".venv",
   "language": "python",
   "name": "python3"
  },
  "language_info": {
   "codemirror_mode": {
    "name": "ipython",
    "version": 3
   },
   "file_extension": ".py",
   "mimetype": "text/x-python",
   "name": "python",
   "nbconvert_exporter": "python",
   "pygments_lexer": "ipython3",
   "version": "3.9.9"
  },
  "vscode": {
   "interpreter": {
    "hash": "077b396a86bc6b27a58ed1155668631492bc59fe85a729995524234d32fbc2c2"
   }
  }
 },
 "nbformat": 4,
 "nbformat_minor": 5
}
